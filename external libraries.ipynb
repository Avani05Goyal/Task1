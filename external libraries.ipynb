{
 "cells": [
  {
   "cell_type": "code",
   "execution_count": 1,
   "metadata": {},
   "outputs": [
    {
     "ename": "ModuleNotFoundError",
     "evalue": "No module named 'learntools'",
     "output_type": "error",
     "traceback": [
      "\u001b[0;31m---------------------------------------------------------------------------\u001b[0m",
      "\u001b[0;31mModuleNotFoundError\u001b[0m                       Traceback (most recent call last)",
      "\u001b[0;32m<ipython-input-1-135ecb985163>\u001b[0m in \u001b[0;36m<module>\u001b[0;34m\u001b[0m\n\u001b[1;32m      1\u001b[0m \u001b[0;31m# Import the jimmy_slots submodule\u001b[0m\u001b[0;34m\u001b[0m\u001b[0;34m\u001b[0m\u001b[0;34m\u001b[0m\u001b[0m\n\u001b[0;32m----> 2\u001b[0;31m \u001b[0;32mfrom\u001b[0m \u001b[0mlearntools\u001b[0m\u001b[0;34m.\u001b[0m\u001b[0mpython\u001b[0m \u001b[0;32mimport\u001b[0m \u001b[0mjimmy_slots\u001b[0m\u001b[0;34m\u001b[0m\u001b[0;34m\u001b[0m\u001b[0m\n\u001b[0m\u001b[1;32m      3\u001b[0m \u001b[0;31m# Call the get_graph() function to get Jimmy's graph\u001b[0m\u001b[0;34m\u001b[0m\u001b[0;34m\u001b[0m\u001b[0;34m\u001b[0m\u001b[0m\n\u001b[1;32m      4\u001b[0m \u001b[0mgraph\u001b[0m \u001b[0;34m=\u001b[0m \u001b[0mjimmy_slots\u001b[0m\u001b[0;34m.\u001b[0m\u001b[0mget_graph\u001b[0m\u001b[0;34m(\u001b[0m\u001b[0;34m)\u001b[0m\u001b[0;34m\u001b[0m\u001b[0;34m\u001b[0m\u001b[0m\n\u001b[1;32m      5\u001b[0m \u001b[0mgraph\u001b[0m\u001b[0;34m\u001b[0m\u001b[0;34m\u001b[0m\u001b[0m\n",
      "\u001b[0;31mModuleNotFoundError\u001b[0m: No module named 'learntools'"
     ]
    }
   ],
   "source": [
    "# Import the jimmy_slots submodule\n",
    "from learntools.python import jimmy_slots\n",
    "# Call the get_graph() function to get Jimmy's graph\n",
    "graph = jimmy_slots.get_graph()\n",
    "graph"
   ]
  },
  {
   "cell_type": "code",
   "execution_count": 2,
   "metadata": {},
   "outputs": [],
   "source": [
    "def best_items(racers):\n",
    "    \"\"\"Given a list of racer dictionaries, return a dictionary mapping items to the number\n",
    "    of times those items were picked up by racers who finished in first place.\n",
    "    \"\"\"\n",
    "    winner_item_counts = {}\n",
    "    for i in range(len(racers)):\n",
    "        # The i'th racer dictionary\n",
    "        racer = racers[i]\n",
    "        # We're only interested in racers who finished in first\n",
    "        if racer['finish'] == 1:\n",
    "            for i in racer['items']:\n",
    "                # Add one to the count for this item (adding it to the dict if necessary)\n",
    "                if i not in winner_item_counts:\n",
    "                    winner_item_counts[i] = 0\n",
    "                winner_item_counts[i] += 1\n",
    "\n",
    "        # Data quality issues :/ Print a warning about racers with no name set. We'll take care of it later.\n",
    "        if racer['name'] is None:\n",
    "            print(\"WARNING: Encountered racer with unknown name on iteration {}/{} (racer = {})\".format(\n",
    "                i+1, len(racers), racer['name'])\n",
    "                 )\n",
    "    return winner_item_counts"
   ]
  },
  {
   "cell_type": "code",
   "execution_count": 3,
   "metadata": {},
   "outputs": [
    {
     "name": "stdout",
     "output_type": "stream",
     "text": [
      "WARNING: Encountered racer with unknown name on iteration 3/4 (racer = None)\n"
     ]
    },
    {
     "data": {
      "text/plain": [
       "{'green shell': 2, 'mushroom': 1}"
      ]
     },
     "execution_count": 3,
     "metadata": {},
     "output_type": "execute_result"
    }
   ],
   "source": [
    "sample = [\n",
    "    {'name': 'Peach', 'items': ['green shell', 'banana', 'green shell',], 'finish': 3},\n",
    "    {'name': 'Bowser', 'items': ['green shell',], 'finish': 1},\n",
    "    {'name': None, 'items': ['mushroom',], 'finish': 2},\n",
    "    {'name': 'Toad', 'items': ['green shell', 'mushroom'], 'finish': 1},\n",
    "]\n",
    "best_items(sample)"
   ]
  },
  {
   "cell_type": "code",
   "execution_count": null,
   "metadata": {},
   "outputs": [],
   "source": []
  }
 ],
 "metadata": {
  "kernelspec": {
   "display_name": "Python 3",
   "language": "python",
   "name": "python3"
  },
  "language_info": {
   "codemirror_mode": {
    "name": "ipython",
    "version": 3
   },
   "file_extension": ".py",
   "mimetype": "text/x-python",
   "name": "python",
   "nbconvert_exporter": "python",
   "pygments_lexer": "ipython3",
   "version": "3.7.3"
  }
 },
 "nbformat": 4,
 "nbformat_minor": 2
}
